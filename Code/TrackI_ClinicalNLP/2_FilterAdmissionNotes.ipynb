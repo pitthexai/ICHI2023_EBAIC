{
 "cells": [
  {
   "cell_type": "code",
   "execution_count": null,
   "id": "2a6e1e6f",
   "metadata": {},
   "outputs": [],
   "source": [
    "import numpy as np\n",
    "import pandas as pd\n",
    "\n",
    "import os\n",
    "import re\n",
    "\n",
    "from scipy.stats import fisher_exact\n",
    "\n",
    "from stigmatizing_word_list import STIGMATIZING_WORDS_COMPLETE"
   ]
  },
  {
   "cell_type": "code",
   "execution_count": null,
   "id": "d8d75ffb",
   "metadata": {},
   "outputs": [],
   "source": [
    "def load_data(data_root):\n",
    "    noteevents = pd.read_csv(os.path.join(data_root, \"NOTEEVENTS.csv.gz\"), low_memory=False)\n",
    "    admissions = pd.read_csv(os.path.join(data_root, \"ADMISSIONS.csv.gz\"), low_memory=False)\n",
    "    admissions = admissions[~admissions.DIAGNOSIS.isna()] # drop rows without diagnosis\n",
    "    \n",
    "    assert admissions.DIAGNOSIS.isna().sum() == 0\n",
    "    \n",
    "    combined = admissions.merge(noteevents, on=\"SUBJECT_ID\", how=\"inner\")\n",
    "    \n",
    "    return combined\n",
    "    "
   ]
  },
  {
   "cell_type": "code",
   "execution_count": null,
   "id": "2b76cd8a",
   "metadata": {},
   "outputs": [],
   "source": [
    "clinical_notes = load_data(\"data/\")"
   ]
  },
  {
   "cell_type": "code",
   "execution_count": null,
   "id": "50f2625d",
   "metadata": {},
   "outputs": [],
   "source": [
    "STIG_WORD_LIST = pd.read_csv(\"data/stigmatizing_w_pval.csv\")"
   ]
  },
  {
   "cell_type": "code",
   "execution_count": null,
   "id": "aec426a0",
   "metadata": {},
   "outputs": [],
   "source": [
    "stig_list = r\"|\".join([r\"\\b{}\\b\".format(word) for word in STIG_WORD_LIST.stigmatizing_words])"
   ]
  },
  {
   "cell_type": "code",
   "execution_count": null,
   "id": "73a7c9f1",
   "metadata": {},
   "outputs": [],
   "source": [
    "clinical_notes_stig = clinical_notes[[\"SUBJECT_ID\", \"ETHNICITY\", \"TEXT\"]].apply(lambda x: x.str.contains(stig_list), axis=1).any(1)"
   ]
  },
  {
   "cell_type": "code",
   "execution_count": null,
   "id": "db6c6ea3",
   "metadata": {},
   "outputs": [],
   "source": [
    "clinical_notes_stig.sum()"
   ]
  },
  {
   "cell_type": "code",
   "execution_count": null,
   "id": "ffb50de1",
   "metadata": {},
   "outputs": [],
   "source": [
    "filtered = clinical_notes.loc[clinical_notes_stig]"
   ]
  },
  {
   "cell_type": "code",
   "execution_count": null,
   "id": "72e4bbdb",
   "metadata": {},
   "outputs": [],
   "source": [
    "filtered"
   ]
  },
  {
   "cell_type": "code",
   "execution_count": null,
   "id": "ef610b41",
   "metadata": {},
   "outputs": [],
   "source": []
  },
  {
   "cell_type": "code",
   "execution_count": null,
   "id": "e3b3bd38",
   "metadata": {},
   "outputs": [],
   "source": [
    "stig_words_per_note = []\n",
    "for note in filtered.TEXT:\n",
    "    res = list(set(re.findall(stig_list, note)))\n",
    "    stig_words_per_note.append(\"|\".join(res))\n",
    "    "
   ]
  },
  {
   "cell_type": "code",
   "execution_count": null,
   "id": "f5b906a8",
   "metadata": {},
   "outputs": [],
   "source": [
    "filtered[\"STIG_WORD\"] = stig_words_per_note"
   ]
  },
  {
   "cell_type": "code",
   "execution_count": null,
   "id": "a02c29ad",
   "metadata": {},
   "outputs": [],
   "source": [
    "filtered.head()"
   ]
  },
  {
   "cell_type": "code",
   "execution_count": null,
   "id": "4859018d",
   "metadata": {},
   "outputs": [],
   "source": [
    "filtered.reset_index(drop=True, inplace=True)"
   ]
  },
  {
   "cell_type": "code",
   "execution_count": null,
   "id": "cd77ef4e",
   "metadata": {},
   "outputs": [],
   "source": [
    "filtered.to_csv(\"data/clinical_filtered.csv.gz\", index=False)"
   ]
  },
  {
   "cell_type": "code",
   "execution_count": null,
   "id": "6313108f",
   "metadata": {},
   "outputs": [],
   "source": []
  }
 ],
 "metadata": {
  "kernelspec": {
   "display_name": "Python 3 (ipykernel)",
   "language": "python",
   "name": "python3"
  },
  "language_info": {
   "codemirror_mode": {
    "name": "ipython",
    "version": 3
   },
   "file_extension": ".py",
   "mimetype": "text/x-python",
   "name": "python",
   "nbconvert_exporter": "python",
   "pygments_lexer": "ipython3",
   "version": "3.9.13"
  }
 },
 "nbformat": 4,
 "nbformat_minor": 5
}
