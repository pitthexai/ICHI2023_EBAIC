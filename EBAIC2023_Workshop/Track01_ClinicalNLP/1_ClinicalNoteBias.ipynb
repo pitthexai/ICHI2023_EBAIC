{
 "cells": [
  {
   "cell_type": "code",
   "execution_count": 1,
   "id": "8eaf1c7a",
   "metadata": {},
   "outputs": [],
   "source": [
    "import numpy as np\n",
    "import pandas as pd\n",
    "\n",
    "import os\n",
    "import re\n",
    "\n",
    "from scipy.stats import fisher_exact\n",
    "\n",
    "from stigmatizing_word_list import STIGMATIZING_WORDS_COMPLETE"
   ]
  },
  {
   "cell_type": "code",
   "execution_count": 2,
   "id": "4377f479",
   "metadata": {},
   "outputs": [],
   "source": [
    "def load_data(data_root):\n",
    "    noteevents = pd.read_csv(os.path.join(data_root, \"NOTEEVENTS.csv.gz\"), low_memory=False)\n",
    "    admissions = pd.read_csv(os.path.join(data_root, \"ADMISSIONS.csv.gz\"), low_memory=False)\n",
    "    admissions = admissions[~admissions.DIAGNOSIS.isna()] # drop rows without diagnosis\n",
    "    \n",
    "    assert admissions.DIAGNOSIS.isna().sum() == 0\n",
    "    \n",
    "    combined = admissions.merge(noteevents, on=\"SUBJECT_ID\", how=\"inner\")\n",
    "    \n",
    "    return combined\n",
    "    "
   ]
  },
  {
   "cell_type": "code",
   "execution_count": 3,
   "id": "5e5285f2-07fd-4cb9-a38d-e7372008e477",
   "metadata": {},
   "outputs": [],
   "source": [
    "def find_stigmatizing_clinical_notes_v2(stigmatizing_list, notes):\n",
    "    counts = {word:0 for word in stigmatizing_list}\n",
    "    total_notes_found = 0\n",
    "    total_words_from_notes = 0\n",
    "    total_words = 0\n",
    "    for word in stigmatizing_list:\n",
    "        for note in notes:\n",
    "            note = note.split()\n",
    "            if word in note:\n",
    "                counts[word]+=1\n",
    "                total_notes_found += 1\n",
    "                total_words_from_notes += len(note)\n",
    "            total_words += len(note)\n",
    "    return counts, total_notes_found, total_words_from_notes, total_words"
   ]
  },
  {
   "cell_type": "code",
   "execution_count": 4,
   "id": "265536b9",
   "metadata": {},
   "outputs": [],
   "source": [
    "clinical_notes = load_data(\"data/\")"
   ]
  },
  {
   "cell_type": "code",
   "execution_count": null,
   "id": "119a79a4",
   "metadata": {},
   "outputs": [],
   "source": []
  },
  {
   "cell_type": "code",
   "execution_count": null,
   "id": "be821c3d",
   "metadata": {},
   "outputs": [],
   "source": [
    "counts, total_notes_found, total_words_from_notes, total_words = find_stigmatizing_clinical_notes_v2(STIGMATIZING_WORDS_COMPLETE, notes=clinical_notes.TEXT)"
   ]
  },
  {
   "cell_type": "code",
   "execution_count": null,
   "id": "1c8c8c07",
   "metadata": {},
   "outputs": [],
   "source": [
    "full_set = pd.DataFrame().from_dict(counts, orient=\"index\")\n",
    "# full_set.reset_index(inplace=True)\n",
    "\n",
    "full_set.columns = [\"full_sample\"]\n",
    "# full_set[\"percentage\"] = full_set[\"Full Sample Count\"]/total_notes_found\n",
    "\n",
    "full_set.index.name = \"stigmatizing_words\"\n",
    "# full_set.loc[\"total\"]  = full_set.sum()"
   ]
  },
  {
   "cell_type": "code",
   "execution_count": null,
   "id": "67f77e27",
   "metadata": {},
   "outputs": [],
   "source": [
    "full_set"
   ]
  },
  {
   "cell_type": "code",
   "execution_count": null,
   "id": "8f7b0382",
   "metadata": {},
   "outputs": [],
   "source": [
    "print(\"Notes with any stigmitizing language No. (%)\", full_set.full_sample.sum(), \"(\", total_notes_found/len(clinical_notes), \")\")"
   ]
  },
  {
   "cell_type": "code",
   "execution_count": null,
   "id": "5991a8dc",
   "metadata": {},
   "outputs": [],
   "source": [
    "# full_set.loc[full_set.index[-1], 'term'] = ''\n",
    "# full_set.fillna(\"-\", inplace=True)"
   ]
  },
  {
   "cell_type": "code",
   "execution_count": null,
   "id": "cced5fce",
   "metadata": {},
   "outputs": [],
   "source": [
    "full_set.sort_values(by=\"full_sample\", ascending=False).reset_index().plot.bar(\"stigmatizing_words\", \"full_sample\", figsize=(10, 5))"
   ]
  },
  {
   "cell_type": "code",
   "execution_count": null,
   "id": "ce466848",
   "metadata": {},
   "outputs": [],
   "source": [
    "white = clinical_notes[(clinical_notes.ETHNICITY.str.contains(\"WHITE\"))]"
   ]
  },
  {
   "cell_type": "code",
   "execution_count": null,
   "id": "c9098d5e",
   "metadata": {},
   "outputs": [],
   "source": [
    "black = clinical_notes[(clinical_notes.ETHNICITY.str.contains(\"BLACK\"))]"
   ]
  },
  {
   "cell_type": "code",
   "execution_count": null,
   "id": "84744226",
   "metadata": {},
   "outputs": [],
   "source": [
    "w_counts, w_total_notes_found, w_total_words_from_notes, w_total_words = find_stigmatizing_clinical_notes_v2(STIGMATIZING_WORDS_COMPLETE, notes=white.TEXT)"
   ]
  },
  {
   "cell_type": "code",
   "execution_count": null,
   "id": "69b8c4ed",
   "metadata": {},
   "outputs": [],
   "source": [
    "b_counts, b_total_notes_found, b_total_words_from_notes, b_total_words = find_stigmatizing_clinical_notes_v2(STIGMATIZING_WORDS_COMPLETE, notes=black.TEXT)"
   ]
  },
  {
   "cell_type": "code",
   "execution_count": null,
   "id": "facc0915",
   "metadata": {},
   "outputs": [],
   "source": [
    "full_set[\"ethnicity_white\"] = w_counts.values()\n",
    "full_set[\"ethnicity_black\"] = b_counts.values()\n",
    "# full_set[\"Ethnicity: Hispanic/Latino\"] = h_counts.values()"
   ]
  },
  {
   "cell_type": "code",
   "execution_count": null,
   "id": "54c72170",
   "metadata": {},
   "outputs": [],
   "source": [
    "full_set.sort_values(by=\"ethnicity_white\", ascending=False).reset_index().plot.bar(\"stigmatizing_words\", \"ethnicity_white\", figsize=(10, 5))"
   ]
  },
  {
   "cell_type": "code",
   "execution_count": null,
   "id": "db49e2b8",
   "metadata": {},
   "outputs": [],
   "source": [
    "full_set.sort_values(by=\"ethnicity_black\", ascending=False).reset_index().plot.bar(\"stigmatizing_words\", \"ethnicity_black\", figsize=(10, 5))"
   ]
  },
  {
   "cell_type": "code",
   "execution_count": null,
   "id": "7f2070ac",
   "metadata": {},
   "outputs": [],
   "source": [
    "full_set = full_set[(full_set[\"ethnicity_white\"] > 1) & (full_set[\"ethnicity_black\"] > 1)]# .sort_values(by = \"Log Odds Ratio: Black_White\")"
   ]
  },
  {
   "cell_type": "code",
   "execution_count": null,
   "id": "3ea72436",
   "metadata": {},
   "outputs": [],
   "source": [
    "full_set"
   ]
  },
  {
   "cell_type": "code",
   "execution_count": null,
   "id": "797c8afc",
   "metadata": {},
   "outputs": [],
   "source": [
    "full_set[\"odds_full_sample\"] = full_set[\"full_sample\"] / total_words_from_notes\n",
    "full_set[\"odds_white\"] = full_set[\"ethnicity_white\"] / w_total_words_from_notes\n",
    "full_set[\"odds_black\"] = full_set[\"ethnicity_black\"] / b_total_words_from_notes\n",
    "# full_set[\"Odds Ratio: Hispanic/Latino\"] = full_set[\"Ethnicity: Hispanic/Latino\"] / h_total_words_from_notes"
   ]
  },
  {
   "cell_type": "code",
   "execution_count": null,
   "id": "82f24f79",
   "metadata": {},
   "outputs": [],
   "source": [
    "def calculate_odds_ratio_columns(word_count_data, white_count_total, black_count_total):\n",
    "    records = []\n",
    "    b = white_count_total\n",
    "    d = black_count_total\n",
    "    \n",
    "    for word, row_info in word_count_data.iterrows():\n",
    "        a = row_info.ethnicity_white\n",
    "        c = row_info.ethnicity_black\n",
    "\n",
    "        table = [[a, b],\n",
    "                 [c, d]]\n",
    "        \n",
    "        odds_ratio, p_val = fisher_exact(table)\n",
    "        log_odds = np.log(odds_ratio)\n",
    "        \n",
    "        se = np.sqrt(1/a + 1/b + 1/c + 1/d)\n",
    "        lower_ci = 1.96 * np.sqrt(se)\n",
    "        upper_ci = 1.96 * np.sqrt(se)\n",
    "        \n",
    "        row_odds = [word, odds_ratio, log_odds, lower_ci, upper_ci, p_val]\n",
    "        records.append(row_odds)\n",
    "        \n",
    "    return records\n",
    "        \n",
    "    "
   ]
  },
  {
   "cell_type": "code",
   "execution_count": null,
   "id": "c75b1918",
   "metadata": {},
   "outputs": [],
   "source": [
    "full_set = pd.DataFrame().from_dict(counts, orient=\"index\")\n",
    "\n",
    "full_set.columns = [\"full_sample\"]\n",
    "\n",
    "full_set.index.name = \"stigmatizing_words\"\n",
    "\n",
    "\n",
    "full_set[\"ethnicity_white\"] = w_counts.values()\n",
    "full_set[\"ethnicity_black\"] = b_counts.values()\n",
    "\n",
    "full_set = full_set[(full_set[\"ethnicity_white\"] > 1) & (full_set[\"ethnicity_black\"] > 1)]\n",
    "full_set[\"odds_full_sample\"] = full_set[\"full_sample\"] / total_words_from_notes\n",
    "full_set[\"odds_white\"] = full_set[\"ethnicity_white\"] / w_total_words_from_notes\n",
    "full_set[\"odds_black\"] = full_set[\"ethnicity_black\"] / b_total_words_from_notes\n",
    "# full_set[\"Odds Ratio: Hispanic/Latino\"] = full_set[\"Ethnicity: Hispanic/Latino\"] / h_total_words_from_notes"
   ]
  },
  {
   "cell_type": "code",
   "execution_count": null,
   "id": "6b632492",
   "metadata": {},
   "outputs": [],
   "source": [
    "odd_calculations = calculate_odds_ratio_columns(full_set[[\"ethnicity_white\", \"ethnicity_black\"]], w_total_words_from_notes, b_total_words_from_notes)\n",
    "odds_data = pd.DataFrame(odd_calculations, columns = [\"stigmatizing_words\", \"odds_white_black\", \"log_odds_white_black\", \"lower_ci\", \"upper_ci\", \"p-val\"])"
   ]
  },
  {
   "cell_type": "code",
   "execution_count": null,
   "id": "dd833ffe",
   "metadata": {},
   "outputs": [],
   "source": [
    "full_set = full_set.reset_index()\n",
    "full_set = full_set.merge(odds_data, on=\"stigmatizing_words\")\n",
    "full_set.set_index(\"stigmatizing_words\", inplace=True)\n",
    "full_set = full_set.sort_values(by = \"log_odds_white_black\")"
   ]
  },
  {
   "cell_type": "code",
   "execution_count": null,
   "id": "9b831886",
   "metadata": {},
   "outputs": [],
   "source": [
    "import matplotlib.pyplot as plt\n",
    "plt.figure(figsize=(6, 4), dpi=150)\n",
    "ci = [full_set.lower_ci,\n",
    "      full_set.upper_ci]\n",
    "plt.errorbar(x=full_set.log_odds_white_black, y=full_set.index.values, xerr=ci,\n",
    "            color='black',  capsize=3, linestyle='None', linewidth=1,\n",
    "            marker=\"o\", markersize=5, mfc=\"black\", mec=\"black\")\n",
    "\n",
    "plt.axvline(x=1, linewidth=0.8, linestyle='--', color='black')\n",
    "plt.tick_params(axis='both', which='major', labelsize=8)\n",
    "plt.xlabel('Log Odds Ratio and 95% Confidence Interval', fontsize=8)\n",
    "plt.tight_layout()\n",
    "# plt.savefig('raw_forest_plot.png')\n",
    "plt.show()"
   ]
  },
  {
   "cell_type": "code",
   "execution_count": null,
   "id": "ad938915",
   "metadata": {},
   "outputs": [],
   "source": [
    "odds_data.round(4).to_csv(\"stigmatizing_w_pval_6-26-2023.csv\", index=False)"
   ]
  },
  {
   "cell_type": "code",
   "execution_count": null,
   "id": "9818646a",
   "metadata": {},
   "outputs": [],
   "source": []
  }
 ],
 "metadata": {
  "kernelspec": {
   "display_name": "Python 3 (ipykernel)",
   "language": "python",
   "name": "python3"
  },
  "language_info": {
   "codemirror_mode": {
    "name": "ipython",
    "version": 3
   },
   "file_extension": ".py",
   "mimetype": "text/x-python",
   "name": "python",
   "nbconvert_exporter": "python",
   "pygments_lexer": "ipython3",
   "version": "3.9.13"
  }
 },
 "nbformat": 4,
 "nbformat_minor": 5
}
