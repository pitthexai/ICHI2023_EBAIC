{
 "cells": [
  {
   "cell_type": "code",
   "execution_count": null,
   "id": "b0cdcf4b",
   "metadata": {},
   "outputs": [],
   "source": [
    "import numpy as np\n",
    "import pandas as pd\n",
    "\n",
    "from stigmatizing_word_list import STIGMATIZING_WORDS_COMPLETE"
   ]
  },
  {
   "cell_type": "code",
   "execution_count": null,
   "id": "9bf62483",
   "metadata": {},
   "outputs": [],
   "source": [
    "filtered = pd.read_csv(\"data/clinical_filtered.csv.gz\")"
   ]
  },
  {
   "cell_type": "code",
   "execution_count": null,
   "id": "a700550e",
   "metadata": {},
   "outputs": [],
   "source": []
  },
  {
   "cell_type": "code",
   "execution_count": null,
   "id": "aaded457",
   "metadata": {},
   "outputs": [],
   "source": [
    "import spacy\n",
    "nlp = spacy.load(\"en_core_web_sm\")"
   ]
  },
  {
   "cell_type": "code",
   "execution_count": null,
   "id": "8831cf0a",
   "metadata": {},
   "outputs": [],
   "source": [
    "from tqdm import tqdm"
   ]
  },
  {
   "cell_type": "code",
   "execution_count": null,
   "id": "f3425c80",
   "metadata": {
    "scrolled": true
   },
   "outputs": [],
   "source": [
    "sentences = []\n",
    "words = []\n",
    "for word in tqdm(STIGMATIZING_WORDS_COMPLETE):\n",
    "    data_word = filtered[filtered.STIG_WORD == word]\n",
    "    if len(data_word) == 0:\n",
    "        continue\n",
    "        \n",
    "    subject_ids = data_word.SUBJECT_ID.unique()\n",
    "    \n",
    "    if len(subject_ids) > 50:\n",
    "        subject_ids = np.random.choice(subject_ids, 50, replace=False)\n",
    "    \n",
    "    for sid in subject_ids:\n",
    "        subject = data_word.query(f\"SUBJECT_ID == {sid}\")\n",
    "        \n",
    "        if len(subject) >= 1: \n",
    "            subject.sample(1)\n",
    "        else:\n",
    "            continue\n",
    "            \n",
    "        text = subject.TEXT.values[0]\n",
    "\n",
    "        doc = nlp(text)\n",
    "        poss_sents = []\n",
    "        for sent in doc.sents:\n",
    "            if word in sent.text and sent.text not in sentences:\n",
    "                poss_sents.append(sent.text)\n",
    "        if len(poss_sents) >= 1:\n",
    "            sentences.extend(np.random.choice(poss_sents, 1))\n",
    "            words.append(word)"
   ]
  },
  {
   "cell_type": "code",
   "execution_count": null,
   "id": "a47d03b4",
   "metadata": {},
   "outputs": [],
   "source": [
    "sent_comp = pd.DataFrame({\n",
    "    \"SENTENCE\": sentences,\n",
    "    \"STIG_WORD\": words\n",
    "})"
   ]
  },
  {
   "cell_type": "code",
   "execution_count": null,
   "id": "328d7728",
   "metadata": {},
   "outputs": [],
   "source": [
    "sent_comp.to_csv(\"data/stig_word_sents.csv\", index=False)"
   ]
  },
  {
   "cell_type": "code",
   "execution_count": null,
   "id": "9bf2dab4",
   "metadata": {},
   "outputs": [],
   "source": []
  }
 ],
 "metadata": {
  "kernelspec": {
   "display_name": "Python 3 (ipykernel)",
   "language": "python",
   "name": "python3"
  },
  "language_info": {
   "codemirror_mode": {
    "name": "ipython",
    "version": 3
   },
   "file_extension": ".py",
   "mimetype": "text/x-python",
   "name": "python",
   "nbconvert_exporter": "python",
   "pygments_lexer": "ipython3",
   "version": "3.9.13"
  }
 },
 "nbformat": 4,
 "nbformat_minor": 5
}
