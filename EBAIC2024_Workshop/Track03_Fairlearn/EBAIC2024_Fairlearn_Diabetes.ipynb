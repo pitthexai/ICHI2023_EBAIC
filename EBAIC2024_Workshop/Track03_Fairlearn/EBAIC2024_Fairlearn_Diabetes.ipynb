{
  "nbformat": 4,
  "nbformat_minor": 0,
  "metadata": {
    "colab": {
      "provenance": [],
      "toc_visible": true,
      "authorship_tag": "ABX9TyOCkTXkGPm+PeIebomDtwyR",
      "include_colab_link": true
    },
    "kernelspec": {
      "name": "python3",
      "display_name": "Python 3"
    },
    "language_info": {
      "name": "python"
    }
  },
  "cells": [
    {
      "cell_type": "markdown",
      "metadata": {
        "id": "view-in-github",
        "colab_type": "text"
      },
      "source": [
        "<a href=\"https://colab.research.google.com/github/pitthexai/IEEE_ICHI_EBAICWorkshop/blob/main/EBAIC2024_Workshop/Track03_Fairlearn/EBAIC2024_Fairlearn_Diabetes.ipynb\" target=\"_parent\"><img src=\"https://colab.research.google.com/assets/colab-badge.svg\" alt=\"Open In Colab\"/></a>"
      ]
    },
    {
      "cell_type": "markdown",
      "source": [
        "# EBAIC 2024 Track III: Fairlearn: An open-source package to improve fairness of AI\n",
        "\n",
        "The field of fairness in AI systems is an interdisciplinary area of research and practice focused on understanding and mitigating the negative impacts of AI on society. In this tutorial, we utilize Fairlearn -- an open-source library designed to help improve the fairness of AI systems. In this tutorial, we consider an automated system for recommending patients for high-risk care management programs\n",
        "\n",
        "## Dataset and Task\n",
        "Using a dataset included with the Fairlearn library, we will be working with a clincial dataset of containing re-admissions over a ten-year period (1998-2008) for diabetic patients across 130 different hospitals within the US. Features included within the dataset include:\n",
        "\n",
        "- demographics,\n",
        "- diagnoses,\n",
        "- diabetic medications,\n",
        "- number of visits in the year preceding the encounter,\n",
        "- payer information,\n",
        "- whether the patient was readmitted after release,\n",
        "- whether the readmission occurred within 30 days of the release\n",
        "\n",
        "Out goal is to develop a classification model that decides whether the patients should be suggested to their primary care physicians for an enrollment into a high-risk care management program."
      ],
      "metadata": {
        "id": "p6DZ3AccQjph"
      }
    },
    {
      "cell_type": "markdown",
      "source": [
        "## Package Setup"
      ],
      "metadata": {
        "id": "bE8h3xNMQzEI"
      }
    },
    {
      "cell_type": "code",
      "execution_count": null,
      "metadata": {
        "colab": {
          "base_uri": "https://localhost:8080/",
          "height": 879
        },
        "id": "en1pUdd1MdgD",
        "outputId": "00a4ae9e-8e8b-4d76-f7f5-d7e352307fac"
      },
      "outputs": [
        {
          "output_type": "stream",
          "name": "stdout",
          "text": [
            "Collecting fairlearn==0.10.0\n",
            "  Downloading fairlearn-0.10.0-py3-none-any.whl (234 kB)\n",
            "\u001b[?25l     \u001b[90m━━━━━━━━━━━━━━━━━━━━━━━━━━━━━━━━━━━━━━━━\u001b[0m \u001b[32m0.0/234.1 kB\u001b[0m \u001b[31m?\u001b[0m eta \u001b[36m-:--:--\u001b[0m\r\u001b[2K     \u001b[91m━━━━━━━━━━━━━━━━━━━━━━━━\u001b[0m\u001b[90m╺\u001b[0m\u001b[90m━━━━━━━━━━━━━━━\u001b[0m \u001b[32m143.4/234.1 kB\u001b[0m \u001b[31m4.2 MB/s\u001b[0m eta \u001b[36m0:00:01\u001b[0m\r\u001b[2K     \u001b[90m━━━━━━━━━━━━━━━━━━━━━━━━━━━━━━━━━━━━━━━━\u001b[0m \u001b[32m234.1/234.1 kB\u001b[0m \u001b[31m4.5 MB/s\u001b[0m eta \u001b[36m0:00:00\u001b[0m\n",
            "\u001b[?25hRequirement already satisfied: numpy>=1.24.4 in /usr/local/lib/python3.10/dist-packages (from fairlearn==0.10.0) (1.25.2)\n",
            "Requirement already satisfied: pandas>=2.0.3 in /usr/local/lib/python3.10/dist-packages (from fairlearn==0.10.0) (2.0.3)\n",
            "Requirement already satisfied: scikit-learn>=1.2.1 in /usr/local/lib/python3.10/dist-packages (from fairlearn==0.10.0) (1.5.0)\n",
            "Requirement already satisfied: scipy>=1.9.3 in /usr/local/lib/python3.10/dist-packages (from fairlearn==0.10.0) (1.11.4)\n",
            "Requirement already satisfied: python-dateutil>=2.8.2 in /usr/local/lib/python3.10/dist-packages (from pandas>=2.0.3->fairlearn==0.10.0) (2.8.2)\n",
            "Requirement already satisfied: pytz>=2020.1 in /usr/local/lib/python3.10/dist-packages (from pandas>=2.0.3->fairlearn==0.10.0) (2023.4)\n",
            "Requirement already satisfied: tzdata>=2022.1 in /usr/local/lib/python3.10/dist-packages (from pandas>=2.0.3->fairlearn==0.10.0) (2024.1)\n",
            "Requirement already satisfied: joblib>=1.2.0 in /usr/local/lib/python3.10/dist-packages (from scikit-learn>=1.2.1->fairlearn==0.10.0) (1.4.2)\n",
            "Requirement already satisfied: threadpoolctl>=3.1.0 in /usr/local/lib/python3.10/dist-packages (from scikit-learn>=1.2.1->fairlearn==0.10.0) (3.5.0)\n",
            "Requirement already satisfied: six>=1.5 in /usr/local/lib/python3.10/dist-packages (from python-dateutil>=2.8.2->pandas>=2.0.3->fairlearn==0.10.0) (1.16.0)\n",
            "Installing collected packages: fairlearn\n",
            "  Attempting uninstall: fairlearn\n",
            "    Found existing installation: fairlearn 0.8.0\n",
            "    Uninstalling fairlearn-0.8.0:\n",
            "      Successfully uninstalled fairlearn-0.8.0\n",
            "Successfully installed fairlearn-0.10.0\n"
          ]
        },
        {
          "output_type": "display_data",
          "data": {
            "application/vnd.colab-display-data+json": {
              "pip_warning": {
                "packages": [
                  "fairlearn"
                ]
              },
              "id": "5bef08f0ed70474eafd4b05e74bbedd4"
            }
          },
          "metadata": {}
        },
        {
          "output_type": "stream",
          "name": "stdout",
          "text": [
            "Requirement already satisfied: scikit-learn in /usr/local/lib/python3.10/dist-packages (1.5.0)\n",
            "Requirement already satisfied: numpy>=1.19.5 in /usr/local/lib/python3.10/dist-packages (from scikit-learn) (1.25.2)\n",
            "Requirement already satisfied: scipy>=1.6.0 in /usr/local/lib/python3.10/dist-packages (from scikit-learn) (1.11.4)\n",
            "Requirement already satisfied: joblib>=1.2.0 in /usr/local/lib/python3.10/dist-packages (from scikit-learn) (1.4.2)\n",
            "Requirement already satisfied: threadpoolctl>=3.1.0 in /usr/local/lib/python3.10/dist-packages (from scikit-learn) (3.5.0)\n",
            "\u001b[31mERROR: Operation cancelled by user\u001b[0m\u001b[31m\n",
            "\u001b[0mRequirement already satisfied: seaborn in /usr/local/lib/python3.10/dist-packages (0.13.2)\n",
            "Requirement already satisfied: numpy!=1.24.0,>=1.20 in /usr/local/lib/python3.10/dist-packages (from seaborn) (1.25.2)\n",
            "Requirement already satisfied: pandas>=1.2 in /usr/local/lib/python3.10/dist-packages (from seaborn) (2.0.3)\n",
            "Requirement already satisfied: matplotlib!=3.6.1,>=3.4 in /usr/local/lib/python3.10/dist-packages (from seaborn) (3.7.1)\n",
            "Requirement already satisfied: contourpy>=1.0.1 in /usr/local/lib/python3.10/dist-packages (from matplotlib!=3.6.1,>=3.4->seaborn) (1.2.1)\n",
            "Requirement already satisfied: cycler>=0.10 in /usr/local/lib/python3.10/dist-packages (from matplotlib!=3.6.1,>=3.4->seaborn) (0.12.1)\n",
            "Requirement already satisfied: fonttools>=4.22.0 in /usr/local/lib/python3.10/dist-packages (from matplotlib!=3.6.1,>=3.4->seaborn) (4.51.0)\n",
            "Requirement already satisfied: kiwisolver>=1.0.1 in /usr/local/lib/python3.10/dist-packages (from matplotlib!=3.6.1,>=3.4->seaborn) (1.4.5)\n",
            "Requirement already satisfied: packaging>=20.0 in /usr/local/lib/python3.10/dist-packages (from matplotlib!=3.6.1,>=3.4->seaborn) (24.0)\n",
            "Requirement already satisfied: pillow>=6.2.0 in /usr/local/lib/python3.10/dist-packages (from matplotlib!=3.6.1,>=3.4->seaborn) (9.4.0)\n",
            "Requirement already satisfied: pyparsing>=2.3.1 in /usr/local/lib/python3.10/dist-packages (from matplotlib!=3.6.1,>=3.4->seaborn) (3.1.2)\n",
            "Requirement already satisfied: python-dateutil>=2.7 in /usr/local/lib/python3.10/dist-packages (from matplotlib!=3.6.1,>=3.4->seaborn) (2.8.2)\n",
            "Requirement already satisfied: pytz>=2020.1 in /usr/local/lib/python3.10/dist-packages (from pandas>=1.2->seaborn) (2023.4)\n",
            "Requirement already satisfied: tzdata>=2022.1 in /usr/local/lib/python3.10/dist-packages (from pandas>=1.2->seaborn) (2024.1)\n",
            "Requirement already satisfied: six>=1.5 in /usr/local/lib/python3.10/dist-packages (from python-dateutil>=2.7->matplotlib!=3.6.1,>=3.4->seaborn) (1.16.0)\n"
          ]
        }
      ],
      "source": [
        "!pip install --upgrade fairlearn==0.10.0\n",
        "!pip install --upgrade scikit-learn\n",
        "!pip install --upgrade seaborn"
      ]
    },
    {
      "cell_type": "code",
      "source": [
        "import numpy as np\n",
        "import pandas as pd\n",
        "\n",
        "pd.set_option(\"display.float_format\", \"{:.3f}\".format)"
      ],
      "metadata": {
        "id": "tcot9f6bNR9v"
      },
      "execution_count": 1,
      "outputs": []
    },
    {
      "cell_type": "code",
      "source": [
        "import matplotlib.pyplot as plt\n",
        "import seaborn as sns\n",
        "\n",
        "sns.set()"
      ],
      "metadata": {
        "id": "VBlJPnnsN8NN"
      },
      "execution_count": 4,
      "outputs": []
    },
    {
      "cell_type": "code",
      "source": [
        "from sklearn.linear_model import LogisticRegression\n",
        "from sklearn.model_selection import train_test_split\n",
        "from sklearn.preprocessing import StandardScaler\n",
        "from sklearn.pipeline import Pipeline\n",
        "from sklearn.utils import Bunch\n",
        "from sklearn.metrics import (\n",
        "    balanced_accuracy_score,\n",
        "    roc_auc_score,\n",
        "    accuracy_score,\n",
        "    recall_score,\n",
        "    confusion_matrix,\n",
        "    roc_auc_score,\n",
        "    roc_curve)\n",
        "from sklearn import set_config\n",
        "\n",
        "set_config(display=\"diagram\")"
      ],
      "metadata": {
        "id": "bh9iQU_JN972"
      },
      "execution_count": 5,
      "outputs": []
    },
    {
      "cell_type": "code",
      "source": [
        "from fairlearn.metrics import (\n",
        "    MetricFrame,\n",
        "    true_positive_rate,\n",
        "    false_positive_rate,\n",
        "    false_negative_rate,\n",
        "    selection_rate,\n",
        "    count,\n",
        "    false_negative_rate_difference\n",
        ")\n",
        "\n",
        "from fairlearn.datasets import fetch_diabetes_hospital\n",
        "from fairlearn.postprocessing import ThresholdOptimizer, plot_threshold_optimizer\n",
        "from fairlearn.postprocessing._interpolated_thresholder import InterpolatedThresholder\n",
        "from fairlearn.postprocessing._threshold_operation import ThresholdOperation\n",
        "from fairlearn.reductions import ExponentiatedGradient, EqualizedOdds, TruePositiveRateParity"
      ],
      "metadata": {
        "id": "uXOy3yYGOAO2"
      },
      "execution_count": 3,
      "outputs": []
    },
    {
      "cell_type": "markdown",
      "source": [
        "## Data Exploration\n",
        "\n",
        "The first step is to explore the data provided for any fairness issues that may occur. Specifically, we look at:\n",
        "1. sample sizes of different demographic groups, and in particular different racial groups\n",
        "2. balance of the class labels"
      ],
      "metadata": {
        "id": "wItEp0DL2eZA"
      }
    },
    {
      "cell_type": "markdown",
      "source": [
        "### Loading the Dataset\n",
        "We first load the dataset using the Fairlearn library. We then construct our target column ```readmit_30_days```."
      ],
      "metadata": {
        "id": "Of49gzc032uu"
      }
    },
    {
      "cell_type": "code",
      "source": [
        "diabetes_data = fetch_diabetes_hospital()"
      ],
      "metadata": {
        "id": "N3aLa3S3OIZM"
      },
      "execution_count": 11,
      "outputs": []
    },
    {
      "cell_type": "code",
      "source": [
        "diabetes_df = diabetes_data.data"
      ],
      "metadata": {
        "id": "mg696_ZA4AvZ"
      },
      "execution_count": 15,
      "outputs": []
    },
    {
      "cell_type": "code",
      "source": [
        "diabetes_df[\"readmit_30_days\"] = np.where(diabetes_df.readmitted == \"<30\", 1, 0)"
      ],
      "metadata": {
        "id": "OWcvuSYm5QVx"
      },
      "execution_count": 20,
      "outputs": []
    },
    {
      "cell_type": "markdown",
      "source": [
        "### Group Sizes\n",
        "\n",
        "For assessing fairness, a key data characteristic is the sample size of groups we are conducting a fairness assessment for. Small sample sizes have two key implications:\n",
        "\n",
        "- **assessment**: Smaller groups are harder to assess due to fewer data points, which leads to a much larger uncertainty in our estimates\n",
        "\n",
        "- **model training**: fewer training data points can cause our model to not appropriately capture any data patterns specific to smaller groups. This can lead to worse predictive performance on these groups.\n"
      ],
      "metadata": {
        "id": "qBn2_U5u9UTB"
      }
    },
    {
      "cell_type": "markdown",
      "source": [
        "#### Race Group Sizes"
      ],
      "metadata": {
        "id": "9y5ExmuM-cbY"
      }
    },
    {
      "cell_type": "code",
      "source": [
        "diabetes_df[\"race\"].value_counts()"
      ],
      "metadata": {
        "colab": {
          "base_uri": "https://localhost:8080/"
        },
        "id": "fWAXM6Tw6Yle",
        "outputId": "a89954d8-7f7e-4833-d66c-4da702c712d8"
      },
      "execution_count": 23,
      "outputs": [
        {
          "output_type": "execute_result",
          "data": {
            "text/plain": [
              "race\n",
              "Caucasian          76099\n",
              "AfricanAmerican    19210\n",
              "Unknown             2273\n",
              "Hispanic            2037\n",
              "Other               1506\n",
              "Asian                641\n",
              "Name: count, dtype: int64"
            ]
          },
          "metadata": {},
          "execution_count": 23
        }
      ]
    },
    {
      "cell_type": "code",
      "source": [
        "diabetes_df[\"race\"].value_counts().plot(kind='bar', rot=45);"
      ],
      "metadata": {
        "colab": {
          "base_uri": "https://localhost:8080/",
          "height": 543
        },
        "id": "JmtA_WUw6sdf",
        "outputId": "9901ebaf-cc02-4150-acbd-1697cfde0b22"
      },
      "execution_count": 25,
      "outputs": [
        {
          "output_type": "display_data",
          "data": {
            "text/plain": [
              "<Figure size 640x480 with 1 Axes>"
            ],
            "image/png": "[encoded data removed]"
          },
          "metadata": {}
        }
      ]
    },
    {
      "cell_type": "markdown",
      "source": [
        "#### Gender"
      ],
      "metadata": {
        "id": "0IMKJtUy-vCK"
      }
    },
    {
      "cell_type": "code",
      "source": [
        "diabetes_df[\"gender\"].value_counts()"
      ],
      "metadata": {
        "colab": {
          "base_uri": "https://localhost:8080/"
        },
        "id": "U0XLtIvv-pbt",
        "outputId": "03734a43-ef34-415e-bc1c-69f0fbf8ed2c"
      },
      "execution_count": 27,
      "outputs": [
        {
          "output_type": "execute_result",
          "data": {
            "text/plain": [
              "gender\n",
              "Female             54708\n",
              "Male               47055\n",
              "Unknown/Invalid        3\n",
              "Name: count, dtype: int64"
            ]
          },
          "metadata": {},
          "execution_count": 27
        }
      ]
    },
    {
      "cell_type": "code",
      "source": [
        "diabetes_df[\"gender\"].value_counts().plot(kind='bar', rot=45);"
      ],
      "metadata": {
        "colab": {
          "base_uri": "https://localhost:8080/",
          "height": 543
        },
        "id": "RX56UTOA-ygV",
        "outputId": "5b6b2608-8a19-4a59-d0ba-b87eda29d54b"
      },
      "execution_count": 28,
      "outputs": [
        {
          "output_type": "display_data",
          "data": {
            "text/plain": [
              "<Figure size 640x480 with 1 Axes>"
            ],
            "image/png": "[encoded data removed]"
          },
          "metadata": {}
        }
      ]
    },
    {
      "cell_type": "code",
      "source": [],
      "metadata": {
        "id": "fE_nBwlU-6pW"
      },
      "execution_count": null,
      "outputs": []
    }
  ]
}